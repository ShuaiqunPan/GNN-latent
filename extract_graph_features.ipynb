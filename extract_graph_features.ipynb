{
 "cells": [
  {
   "cell_type": "code",
   "execution_count": 1,
   "id": "d8b39d19-97cd-45d4-9f71-ee27bdaf6d0d",
   "metadata": {
    "tags": []
   },
   "outputs": [],
   "source": [
    "import os\n",
    "import sys\n",
    "import pickle\n",
    "\n",
    "import numpy as np\n",
    "import pandas as pd\n",
    "import networkx as nx"
   ]
  },
  {
   "cell_type": "code",
   "execution_count": null,
   "id": "33a7afed-55cd-41ea-b92f-734e0328c072",
   "metadata": {
    "tags": []
   },
   "outputs": [],
   "source": [
    "graph_n20_path = '/data/pately/graph_instance_evolution/saved_training_samples_mix_6000_20nodes/'\n",
    "graph_n100_path = '/data/pately/graph_instance_evolution/saved_training_samples_mix_6000_100nodes/'"
   ]
  },
  {
   "cell_type": "code",
   "execution_count": null,
   "id": "f8000a41-caf4-43e7-9fa8-80e578cb1932",
   "metadata": {
    "tags": []
   },
   "outputs": [],
   "source": [
    "# def read_graphs_in_path(path, extension='pickle'):\n",
    "#     # print(path)\n",
    "#     list_of_graphs = []\n",
    "#     if os.path.isdir(path):\n",
    "        \n",
    "#         for filename in os.listdir(path):\n",
    "#             print(filename)\n",
    "#             file_path = os.path.join(path, filename)\n",
    "#             # print(file_path)\n",
    "#             if os.path.isfile(file_path):    \n",
    "#                 if extension is not None:\n",
    "#                     if filename.endswith(extension):\n",
    "#                         dictionary = pickle.load(open(file_path, 'rb'))\n",
    "#                         list_of_graphs.append(dictionary['graph'])\n",
    "#                 else:\n",
    "#                     list_of_graphs.append(filename)\n",
    "#     return list_of_graphs"
   ]
  },
  {
   "cell_type": "code",
   "execution_count": null,
   "id": "77c20437-126c-4128-b9ef-9b836b9d9052",
   "metadata": {
    "tags": []
   },
   "outputs": [],
   "source": [
    "# list_of_graphs = read_graphs_in_path(graph_n20_path)"
   ]
  },
  {
   "cell_type": "code",
   "execution_count": null,
   "id": "4847d50b-0a30-4be7-9a53-49fea90c87e5",
   "metadata": {
    "tags": []
   },
   "outputs": [],
   "source": [
    "# assert len(list_of_graphs) == 6000"
   ]
  },
  {
   "cell_type": "code",
   "execution_count": null,
   "id": "123be335-060c-46e4-a6d6-144fd6ee340f",
   "metadata": {
    "tags": []
   },
   "outputs": [],
   "source": [
    "def welsh_powell(graph):\n",
    "    \n",
    "    nodes_sorted = sorted(graph.nodes(), key=lambda x: graph.degree(x), reverse=True)\n",
    "    \n",
    "    color_map = {}\n",
    "    \n",
    "    for node in nodes_sorted:\n",
    "        neighbor_colors = {color_map[n] for n in graph.neighbors(node) if n in color_map}\n",
    "        color = next((c for c in range(len(nodes_sorted)) if c not in neighbor_colors), 0)\n",
    "        color_map[node] = color\n",
    "    \n",
    "    chromatic_number = max(color_map.values()) + 1\n",
    "    return chromatic_number, color_map\n",
    "\n",
    "\n",
    "# G = nx.Graph()\n",
    "# G.add_edges_from([(1, 2), (1, 3), (2, 3), (3, 4), (4, 5), (4, 6)])\n",
    "\n",
    "# # Calculate chromatic number using Welsh-Powell heuristic\n",
    "# chromatic_number, color_map = welsh_powell(G)\n",
    "# print(\"Chromatic Number:\", chromatic_number)\n",
    "# print(\"Coloring:\", color_map)\n"
   ]
  },
  {
   "cell_type": "code",
   "execution_count": null,
   "id": "2e25bf6e-1726-4655-a37e-29392047a3a1",
   "metadata": {
    "tags": []
   },
   "outputs": [],
   "source": [
    "def compute_global_graph_features(path, extension='pickle'):\n",
    "\n",
    "    graph_description = pd.DataFrame(columns = [\"GRAPH_IDX\",\"NUM_NODES\",\"NUM_EDGES\",\"IS_CONNECTED\",\"LOGRATIO_EDGETONODES\",\"DENSITY\",\"CHROMATIC_NUM\",\"NORM_MIS\",\n",
    "                                                \"SPECTRAL_GAP\",\"LOG_LARGESTEIGVAL\",\"GIRTH\",\"KEMENY_CONSTANT\",\n",
    "                                                \"LOG_SECONDLARGESTEIGVAL\",\"LOG_SMALLESTEIGVAL\",\"MIN_ECC\",\"MAX_ECC\",\"LOGRATIO_MAXMINECC\"])\n",
    "\n",
    "    if os.path.isdir(path):\n",
    "\n",
    "        for filename in os.listdir(path):\n",
    "            file_path = os.path.join(path, filename)\n",
    "            print(filename)\n",
    "            if os.path.isfile(file_path):    \n",
    "                if extension is not None:\n",
    "                    if filename.endswith(extension):\n",
    "                        dictionary = pickle.load(open(file_path, 'rb'))\n",
    "\n",
    "                        current_graph = dictionary['graph']\n",
    "\n",
    "                        current_graph_num_nodes = current_graph.number_of_nodes() #1\n",
    "                        current_graph_num_edges = current_graph.number_of_edges() #2\n",
    "                        current_graph_density = nx.density(current_graph)  #3\n",
    "                        current_graph_connected = int(nx.is_connected(current_graph)) #4\n",
    "\n",
    "                        current_graph_logratio_edgestonodes = np.log(current_graph_num_edges/current_graph_num_nodes) #5\n",
    "\n",
    "                        current_graph_chromatic_num, _ = welsh_powell(current_graph) #6\n",
    "                        normalized_current_graph_mis = len(list(nx.approximation.maximum_independent_set(current_graph))) / current_graph_num_nodes #7\n",
    "                        current_graph_assortativity = np.round(nx.degree_assortativity_coefficient(current_graph), 8) #8\n",
    "\n",
    "                        L = nx.normalized_laplacian_matrix(current_graph)\n",
    "                        e = np.linalg.eigvals(L.A)\n",
    "                        e.sort()\n",
    "\n",
    "                        current_graph_spectral_gap = abs(max(e) - e[len(e)-2]) #9\n",
    "\n",
    "                        current_graph_loglargesteigenval = np.log(e[len(e)-1]) #10\n",
    "                        current_graph_logsecondlargesteigenval = np.log(e[len(e)-2]) #11\n",
    "                        # current_graph_logthirdlargesteigenval = np.log(e[len(e)-3])\n",
    "                        # current_graph_logfourthlargesteigenval = np.log(e[len(e)-4])\n",
    "                        # current_graph_logfifthlargesteigenval = np.log(e[len(e)-5])\n",
    "                        # current_graph_logsixthlargesteigenval = np.log(e[len(e)-6])\n",
    "                        current_graph_logsmallesteigenval = np.log(e[1]) #Smallest NONTRIVIAL eigenvalue #12\n",
    "                        \n",
    "                        try: # eccentricity only works for connected graphs\n",
    "                            eccs = list(nx.eccentricity(current_graph).values())\n",
    "                            eccs.sort()\n",
    "                            current_graph_min_eccentricity = eccs[1] #13\n",
    "                            current_graph_max_eccentricity = eccs[len(e)-1] #14\n",
    "                            current_graph_ratio_maxmin_eccentricity = np.log(current_graph_max_eccentricity/current_graph_min_eccentricity) #15\n",
    "                        except:\n",
    "                            # if the graph is disconnected then we set all the eccentricity features to zero\n",
    "                            current_graph_min_eccentricity = 0\n",
    "                            current_graph_max_eccentricity = 0\n",
    "                            current_graph_ratio_maxmin_eccentricity = 0\n",
    "                        \n",
    "                        current_graph_kemeny_const = np.round(nx.kemeny_constant(current_graph), 8) #16\n",
    "                        current_graph_girth = nx.girth(current_graph) #17\n",
    "                        current_graph_transitivity = nx.transitivity(current_graph)\n",
    "                            \n",
    "                        # Yash: I have old version of panda but would be nice to use pd.concat instead of append!     \n",
    "                        graph_description = graph_description.append({\"GRAPH_IDX\":filename,\n",
    "                                                                     \"NUM_NODES\":current_graph_num_nodes,\n",
    "                                                                     \"NUM_EDGES\":current_graph_num_edges,\n",
    "                                                                     \"IS_CONNECTED\":current_graph_connected, \n",
    "                                                                     \"LOGRATIO_EDGETONODES\":current_graph_logratio_edgestonodes,\n",
    "                                                                     \"DENSITY\":current_graph_density,\n",
    "                                                                     \"CHROMATIC_NUM\":current_graph_chromatic_num,\n",
    "                                                                     \"NORM_MIS\":normalized_current_graph_mis, \n",
    "                                                                     \"GRAPH_ASSORTATIVITY\":current_graph_assortativity,\n",
    "                                                                     \"SPECTRAL_GAP\":current_graph_spectral_gap,\n",
    "                                                                     \"LOG_LARGESTEIGVAL\":current_graph_loglargesteigenval,\n",
    "                                                                     \"LOG_SECONDLARGESTEIGVAL\":current_graph_logsecondlargesteigenval,\n",
    "                                                                     \"LOG_SMALLESTEIGVAL\":current_graph_logsmallesteigenval,\n",
    "                                                                     \"MIN_ECC\":current_graph_min_eccentricity,\n",
    "                                                                     \"MAX_ECC\":current_graph_max_eccentricity,\n",
    "                                                                     \"LOGRATIO_MAXMINECC\":current_graph_ratio_maxmin_eccentricity,\n",
    "                                                                     \"GIRTH\":current_graph_girth,\n",
    "                                                                     \"KEMENY_CONSTANT\":current_graph_kemeny_const,\n",
    "                                                                     \"TRANSITIVITY\":current_graph_transitivity}, ignore_index = True) \n",
    "                        \n",
    "                        if '20nodes' in path:\n",
    "                            graph_desc_path = \"global_graph_features_20nodes.csv\"\n",
    "                        elif '100nodes' in path:\n",
    "                            graph_desc_path = \"global_graph_features_100nodes.csv\"\n",
    "\n",
    "                        graph_description.to_csv(f'{graph_desc_path}')\n",
    "\n",
    "        return graph_description     "
   ]
  },
  {
   "cell_type": "code",
   "execution_count": null,
   "id": "68d9930b-24a0-4664-bbfe-f42a55d9d779",
   "metadata": {
    "tags": []
   },
   "outputs": [],
   "source": [
    "df_20 = compute_global_graph_features(path=graph_n20_path)"
   ]
  },
  {
   "cell_type": "code",
   "execution_count": null,
   "id": "8eaa6ece-88dc-4eaf-9ecb-d244c79afb94",
   "metadata": {},
   "outputs": [],
   "source": [
    "df_100 = compute_graph_features.pylobal_graph_features(path=graph_n100_path)"
   ]
  }
 ],
 "metadata": {
  "kernelspec": {
   "display_name": "Python 3 (ipykernel)",
   "language": "python",
   "name": "python3"
  },
  "language_info": {
   "codemirror_mode": {
    "name": "ipython",
    "version": 3
   },
   "file_extension": ".py",
   "mimetype": "text/x-python",
   "name": "python",
   "nbconvert_exporter": "python",
   "pygments_lexer": "ipython3",
   "version": "3.8.16"
  }
 },
 "nbformat": 4,
 "nbformat_minor": 5
}
